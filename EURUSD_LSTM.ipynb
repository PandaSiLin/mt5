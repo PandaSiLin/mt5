{
 "metadata": {
  "language_info": {
   "codemirror_mode": {
    "name": "ipython",
    "version": 3
   },
   "file_extension": ".py",
   "mimetype": "text/x-python",
   "name": "python",
   "nbconvert_exporter": "python",
   "pygments_lexer": "ipython3",
   "version": "3.7.9-final"
  },
  "orig_nbformat": 2,
  "kernelspec": {
   "name": "Python 3.7.9 64-bit ('base': conda)",
   "display_name": "Python 3.7.9 64-bit ('base': conda)",
   "metadata": {
    "interpreter": {
     "hash": "b3ba2566441a7c06988d0923437866b63cedc61552a5af99d1f4fb67d367b25f"
    }
   }
  }
 },
 "nbformat": 4,
 "nbformat_minor": 2,
 "cells": [
  {
   "source": [
    "This document is to explore building an LSTM deep learning model on the obtained data set."
   ],
   "cell_type": "markdown",
   "metadata": {}
  },
  {
   "cell_type": "code",
   "execution_count": 1,
   "metadata": {},
   "outputs": [],
   "source": [
    "import MetaTrader5 as mt5\n",
    "from datetime import datetime\n",
    "import pytz\n",
    "import pandas as pd \n",
    "import numpy as np\n",
    "import matplotlib.pyplot as plt    "
   ]
  },
  {
   "cell_type": "code",
   "execution_count": 2,
   "metadata": {},
   "outputs": [],
   "source": [
    "#build connection\n",
    "mt5.initialize(\n",
    "    path = \"C:\\\\Users\\\\silin\\\\AppData\\\\Roaming\\\\MetaTrader 5\\\\terminal64.exe\",\n",
    "    login = 35146240,\n",
    "    password = \"xt7lixru\"\n",
    "    )\n",
    "\n",
    "# query data\n",
    "timezone = pytz.timezone(\"Etc/UTC\")\n",
    "utc_from = datetime(2020, 9, 23, tzinfo=timezone)\n",
    "\n",
    "rates = mt5.copy_rates_from('EURUSD', mt5.TIMEFRAME_H4, datetime.today(), 2200)\n",
    "\n",
    "#off connection\n",
    "mt5.shutdown()\n",
    "\n",
    "# cleanup data\n",
    "rates_frame = pd.DataFrame(rates)\n",
    "rates_frame['time']=pd.to_datetime(rates_frame['time'], unit='s')\n",
    "#rates_frame.to_csv(\"EURUSD_200923_190425.csv\")"
   ]
  },
  {
   "cell_type": "code",
   "execution_count": null,
   "metadata": {},
   "outputs": [],
   "source": []
  }
 ]
}