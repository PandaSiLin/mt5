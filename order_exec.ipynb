{
 "metadata": {
  "language_info": {
   "codemirror_mode": {
    "name": "ipython",
    "version": 3
   },
   "file_extension": ".py",
   "mimetype": "text/x-python",
   "name": "python",
   "nbconvert_exporter": "python",
   "pygments_lexer": "ipython3",
   "version": "3.7.9-final"
  },
  "orig_nbformat": 2,
  "kernelspec": {
   "name": "Python 3.7.9 64-bit ('base': conda)",
   "display_name": "Python 3.7.9 64-bit ('base': conda)",
   "metadata": {
    "interpreter": {
     "hash": "b3ba2566441a7c06988d0923437866b63cedc61552a5af99d1f4fb67d367b25f"
    }
   }
  }
 },
 "nbformat": 4,
 "nbformat_minor": 2,
 "cells": [
  {
   "cell_type": "code",
   "execution_count": 8,
   "metadata": {
    "tags": []
   },
   "outputs": [],
   "source": [
    "import MetaTrader5 as mt5\n",
    "from datetime import datetime\n",
    "import keras\n",
    "import pandas as pd \n",
    "import numpy as np\n",
    "\n",
    "model = keras.models.load_model(\"LSTM_eurusd.model\")\n"
   ]
  },
  {
   "cell_type": "code",
   "execution_count": 65,
   "metadata": {},
   "outputs": [],
   "source": [
    "mt5.initialize()\n",
    "symbol = \"EURUSD\"   \n",
    "lot = 0.1\n",
    "\n",
    "rates = mt5.copy_rates_from_pos(symbol, mt5.TIMEFRAME_H1, 0, 100)\n",
    "rates = pd.DataFrame(rates)\n",
    "rates['time']=pd.to_datetime(rates['time'], unit='s')\n"
   ]
  },
  {
   "cell_type": "code",
   "execution_count": 66,
   "metadata": {},
   "outputs": [],
   "source": [
    "X = rates.loc[-1:0,['close']].values\n",
    "Xpred = np.reshape(X, (X.shape[0], 1, X.shape[1]))\n",
    "Yhat = model.predict(Xpred)\n",
    "xhat = X[0,0]\n",
    "yhat = Yhat[0,0]"
   ]
  },
  {
   "cell_type": "code",
   "execution_count": 80,
   "metadata": {},
   "outputs": [],
   "source": [
    "def open_trade(action, symbol, lot, sl_points, tp_points, deviation):\n",
    "    '''https://www.mql5.com/en/docs/integration/python_metatrader5/mt5ordersend_py\n",
    "    '''\n",
    "    # prepare the buy request structure\n",
    "    symbol_info = mt5.symbol_info(symbol)\n",
    "\n",
    "    if action == 'buy':\n",
    "        trade_type = mt5.ORDER_TYPE_BUY\n",
    "        price = mt5.symbol_info_tick(symbol).ask\n",
    "        slval = round(price - sl_points * 0.0001,5)\n",
    "        tpval = round(price + tp_points * 0.0001,5)\n",
    "    elif action =='sell':\n",
    "        trade_type = mt5.ORDER_TYPE_SELL\n",
    "        price = mt5.symbol_info_tick(symbol).bid\n",
    "        slval = round(price + sl_points * 0.0001,5)\n",
    "        tpval = round(price - tp_points * 0.0001,5)\n",
    "    point = mt5.symbol_info(symbol).point\n",
    "\n",
    "    buy_request = {\n",
    "        \"action\": mt5.TRADE_ACTION_DEAL,\n",
    "        \"symbol\": symbol,\n",
    "        \"volume\": lot,\n",
    "        \"type\": trade_type,\n",
    "        \"price\": price,\n",
    "        \"sl\": slval,\n",
    "        \"tp\": tpval,\n",
    "        \"deviation\": deviation,\n",
    "        \"magic\": ordernum,\n",
    "        \"comment\": \"sent by python\",\n",
    "        \"type_time\": mt5.ORDER_TIME_GTC,  # good till cancelled\n",
    "        \"type_filling\": mt5.ORDER_FILLING_RETURN,\n",
    "    }\n",
    "    # send a trading request\n",
    "    result = mt5.order_send(buy_request)        \n",
    "    return result, buy_request "
   ]
  },
  {
   "cell_type": "code",
   "execution_count": 81,
   "metadata": {},
   "outputs": [
    {
     "output_type": "execute_result",
     "data": {
      "text/plain": "(OrderSendResult(retcode=10009, deal=700407891, order=721011876, volume=0.1, price=1.16356, bid=1.16357, ask=1.16361, comment='Request executed', request_id=1, retcode_external=0, request=TradeRequest(action=1, magic=10001, order=0, symbol='EURUSD', volume=0.1, price=1.16356, stoplimit=0.0, sl=1.17356, tp=1.15356, deviation=10, type=1, type_filling=2, type_time=0, expiration=0, comment='sent by python', position=0, position_by=0)),\n {'action': 1,\n  'symbol': 'EURUSD',\n  'volume': 0.1,\n  'type': 1,\n  'price': 1.16356,\n  'sl': 1.17356,\n  'tp': 1.15356,\n  'deviation': 10,\n  'magic': 10001,\n  'comment': 'sent by python',\n  'type_time': 0,\n  'type_filling': 2})"
     },
     "metadata": {},
     "execution_count": 81
    }
   ],
   "source": [
    "tp_points = 20\n",
    "sl_points = 20\n",
    "deviation = 5\n",
    "ordernum = 10001\n",
    "\n",
    "if yhat >= xhat:\n",
    "    action = \"buy\"\n",
    "else:\n",
    "    action = \"sell\"\n",
    "\n",
    "#price = mt5.copy_rates_from_pos(symbol, mt5.TIMEFRAME_M1, 0,1)[0][4]\n",
    "\n",
    "if \n",
    "open_trade(action, symbol, lot, sl_points, tp_points, deviation)\n",
    "\n",
    "\n"
   ]
  },
  {
   "cell_type": "code",
   "execution_count": 16,
   "metadata": {
    "tags": []
   },
   "outputs": [],
   "source": [
    "import MetaTrader5 as mt5\n",
    "mt5.initialize()\n",
    "pos = mt5.positions_get(\"EURUSD\")"
   ]
  },
  {
   "cell_type": "code",
   "execution_count": 20,
   "metadata": {},
   "outputs": [
    {
     "output_type": "execute_result",
     "data": {
      "text/plain": "()"
     },
     "metadata": {},
     "execution_count": 20
    }
   ],
   "source": [
    "positions=mt5.positions_get(symbol=\"EURUSD\")\n",
    "positions"
   ]
  },
  {
   "cell_type": "code",
   "execution_count": null,
   "metadata": {},
   "outputs": [],
   "source": []
  }
 ]
}