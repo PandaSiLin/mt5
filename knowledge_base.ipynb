{
 "metadata": {
  "language_info": {
   "codemirror_mode": {
    "name": "ipython",
    "version": 3
   },
   "file_extension": ".py",
   "mimetype": "text/x-python",
   "name": "python",
   "nbconvert_exporter": "python",
   "pygments_lexer": "ipython3",
   "version": "3.7.9-final"
  },
  "orig_nbformat": 2,
  "kernelspec": {
   "name": "python_defaultSpec_1600879771743",
   "display_name": "Python 3.7.9 64-bit ('base': conda)"
  }
 },
 "nbformat": 4,
 "nbformat_minor": 2,
 "cells": [
  {
   "cell_type": "code",
   "execution_count": 1,
   "metadata": {},
   "outputs": [],
   "source": [
    "import MetaTrader5 as mt5\n",
    "from datetime import datetime\n",
    "import pytz\n",
    "import pandas as pd \n",
    "import matplotlib.pyplot as plt "
   ]
  },
  {
   "source": [
    "set up connections with MT5. It requires MT5 to be opened, Otherwise it will auto open MT5.  \n",
    "+ the MetaTrader5 should be installed in your laptop, the path is the directory to the terminal\n",
    "+ login and password are the credentials. (this account is a virtual account with 10k USD and 1:25 leverage)   \n",
    "\n",
    "Query data from MT5. it can be query through different timestep.   \n",
    "+ Data need to be in datetime format, need to convert the end time to a UTC standard time.   \n",
    "+ Data can be extracted in various forms.   \n",
    "+ ** mt5.TIMEFRAME_H4 ** : is extracting each data point in 4-hour time length.   \n",
    "+ more can be found: [MT5 documentation](https://www.mql5.com/zh/docs/integration/python_metatrader5/mt5copyratesfrom_py)\n",
    "        \n",
    "Remember to shutdown connections after query"
   ],
   "cell_type": "markdown",
   "metadata": {}
  },
  {
   "cell_type": "code",
   "execution_count": 2,
   "metadata": {},
   "outputs": [
    {
     "output_type": "execute_result",
     "data": {
      "text/plain": "True"
     },
     "metadata": {},
     "execution_count": 2
    }
   ],
   "source": [
    "#build connection\n",
    "mt5.initialize(\n",
    "    path = \"C:\\\\Users\\\\silin\\\\AppData\\\\Roaming\\\\MetaTrader 5\\\\terminal64.exe\",\n",
    "    login = 35146240,\n",
    "    password = \"xt7lixru\"\n",
    "    )\n",
    "\n",
    "# query data\n",
    "timezone = pytz.timezone(\"Etc/UTC\")\n",
    "utc_from = datetime(2020, 9, 23, tzinfo=timezone)\n",
    "\n",
    "rates = mt5.copy_rates_from('EURUSD', mt5.TIMEFRAME_H4, datetime.today(), 2200)\n",
    "\n",
    "#off connection\n",
    "mt5.shutdown()"
   ]
  },
  {
   "source": [
    "This part is converting data into a Pandas format"
   ],
   "cell_type": "markdown",
   "metadata": {}
  },
  {
   "cell_type": "code",
   "execution_count": 3,
   "metadata": {
    "tags": []
   },
   "outputs": [],
   "source": [
    "# cleanup data\n",
    "rates_frame = pd.DataFrame(rates)\n",
    "rates_frame['time']=pd.to_datetime(rates_frame['time'], unit='s')\n",
    "#rates_frame.to_csv(\"EURUSD_200923_190425.csv\")"
   ]
  },
  {
   "source": [
    "Codes to draw candle stick chart (Working In Progress)"
   ],
   "cell_type": "markdown",
   "metadata": {}
  },
  {
   "cell_type": "code",
   "execution_count": 4,
   "metadata": {},
   "outputs": [],
   "source": [
    "plt_df = rates_frame[['time', 'open', 'high', 'low', 'close']]"
   ]
  },
  {
   "cell_type": "code",
   "execution_count": null,
   "metadata": {},
   "outputs": [],
   "source": [
    "import plotly.graph_objects as go\n",
    "\n",
    "\n",
    "fig = go.Figure(data=[go.Candlestick(x=plt_df['time'],\n",
    "                open=plt_df['open'],\n",
    "                high=plt_df['high'],\n",
    "                low=plt_df['low'],\n",
    "                close=plt_df['close'])])\n",
    "\n",
    "fig.show()"
   ]
  },
  {
   "source": [
    "This section is showing how to excute orders. [Ref](https://www.mql5.com/zh/docs/integration/python_metatrader5/mt5ordersend_py)"
   ],
   "cell_type": "markdown",
   "metadata": {}
  },
  {
   "cell_type": "code",
   "execution_count": null,
   "metadata": {
    "tags": []
   },
   "outputs": [],
   "source": [
    "# open an order\n",
    "\n",
    "mt5.initialize()\n",
    "\n",
    "symbol = \"USDJPY\"               # trade pairs \n",
    "symbol_info = mt5.symbol_info(symbol)\n",
    "\n",
    "if not symbol_info.visible:\n",
    "    print(symbol, \"is not visible, trying to switch on\")\n",
    "    if not mt5.symbol_select(symbol,True):\n",
    "        print(\"symbol_select({}}) failed, exit\",symbol)\n",
    "        mt5.shutdown()\n",
    "        quit()\n",
    "\n",
    "lot = 0.1          # 0.1 lot (deposit 400 USD on 1:25 lvg)\n",
    "point = mt5.symbol_info(symbol).point\n",
    "price = mt5.symbol_info_tick(symbol).ask   # this is a sample buy order\n",
    "deviation = 20                              # execute price acceptable range \n",
    "request = {\n",
    "    \"action\": mt5.TRADE_ACTION_DEAL,\n",
    "    \"symbol\": symbol,\n",
    "    \"volume\": lot,\n",
    "    \"type\": mt5.ORDER_TYPE_BUY,\n",
    "    \"price\": price,\n",
    "    \"sl\": price - 100 * point,\n",
    "    \"tp\": price + 100 * point,\n",
    "    \"deviation\": deviation,\n",
    "    \"magic\": 234000,\n",
    "    \"comment\": \"python script open\",\n",
    "    \"type_time\": mt5.ORDER_TIME_GTC,\n",
    "    \"type_filling\": mt5.ORDER_FILLING_RETURN,\n",
    "}\n",
    "\n",
    "result = mt5.order_send(request)\n",
    "\n",
    "print(\"1. order_send(): by {} {} lots at {} with deviation={} points\".format(symbol,lot,price,deviation));\n",
    "if result.retcode != mt5.TRADE_RETCODE_DONE:\n",
    "    print(\"2. order_send failed, retcode={}\".format(result.retcode))"
   ]
  },
  {
   "cell_type": "code",
   "execution_count": 41,
   "metadata": {
    "tags": []
   },
   "outputs": [
    {
     "output_type": "stream",
     "name": "stdout",
     "text": "1. order_send(): by USDJPY 0.1 lots at 105.389 with deviation=20 points\n"
    }
   ],
   "source": [
    "# close above order\n",
    "\n",
    "lot = 0.1          \n",
    "point = mt5.symbol_info(symbol).point\n",
    "price = mt5.symbol_info_tick(symbol).bid   # change to bid\n",
    "deviation = 20                              \n",
    "\n",
    "request = {\n",
    "    \"action\": mt5.TRADE_ACTION_DEAL,\n",
    "    \"symbol\": symbol,\n",
    "    \"volume\": lot,\n",
    "    \"type\": mt5.ORDER_TYPE_SELL,           # change to SELL\n",
    "    \"price\": price,\n",
    "    #\"sl\": price - 100 * point,\n",
    "    #\"tp\": price + 100 * point,\n",
    "    \"deviation\": deviation,\n",
    "    \"magic\": 234000,\n",
    "    \"comment\": \"python script close\",     # change to close\n",
    "    \"type_time\": mt5.ORDER_TIME_GTC,\n",
    "    \"type_filling\": mt5.ORDER_FILLING_RETURN,\n",
    "}\n",
    "\n",
    "result = mt5.order_send(request)\n",
    "\n",
    "print(\"1. order_send(): by {} {} lots at {} with deviation={} points\".format(symbol,lot,price,deviation));\n",
    "if result.retcode != mt5.TRADE_RETCODE_DONE:\n",
    "    print(\"2. order_send failed, retcode={}\".format(result.retcode))"
   ]
  },
  {
   "source": [
    "A sample code from Stackoverflow : open and close an order (haven't validate)"
   ],
   "cell_type": "markdown",
   "metadata": {}
  },
  {
   "cell_type": "code",
   "execution_count": 13,
   "metadata": {},
   "outputs": [],
   "source": [
    "def get_info(symbol):\n",
    "    '''https://www.mql5.com/en/docs/integration/python_metatrader5/mt5symbolinfo_py\n",
    "    '''\n",
    "    # get symbol properties\n",
    "    info=mt5.symbol_info(symbol)\n",
    "    return info\n",
    "\n",
    "def open_trade(action, symbol, lot, sl_points, tp_points, deviation):\n",
    "    '''https://www.mql5.com/en/docs/integration/python_metatrader5/mt5ordersend_py\n",
    "    '''\n",
    "    # prepare the buy request structure\n",
    "    symbol_info = mt5.symbol_info(symbol)\n",
    "\n",
    "    if action == 'buy':\n",
    "        trade_type = mt5.ORDER_TYPE_BUY\n",
    "        price = mt5.symbol_info_tick(symbol).ask\n",
    "    elif action =='sell':\n",
    "        trade_type = mt5.ORDER_TYPE_SELL\n",
    "        price = mt5.symbol_info_tick(symbol).bid\n",
    "    point = mt5.symbol_info(symbol).point\n",
    "\n",
    "    buy_request = {\n",
    "        \"action\": mt5.TRADE_ACTION_DEAL,\n",
    "        \"symbol\": symbol,\n",
    "        \"volume\": lot,\n",
    "        \"type\": trade_type,\n",
    "        \"price\": price,\n",
    "        \"sl\": price - sl_points * point,\n",
    "        \"tp\": price + tp_points * point,\n",
    "        \"deviation\": deviation,\n",
    "        \"magic\": ea_magic_number,\n",
    "        \"comment\": \"sent by python\",\n",
    "        \"type_time\": mt5.ORDER_TIME_GTC, # good till cancelled\n",
    "        \"type_filling\": mt5.ORDER_FILLING_RETURN,\n",
    "    }\n",
    "    # send a trading request\n",
    "    result = mt5.order_send(buy_request)        \n",
    "    return result, buy_request \n",
    "\n",
    "\n",
    "def close_trade(action, buy_request, result, deviation):\n",
    "    '''https://www.mql5.com/en/docs/integration/python_metatrader5/mt5ordersend_py\n",
    "    '''\n",
    "    # create a close request\n",
    "    symbol = buy_request['symbol']\n",
    "    if action == 'buy':\n",
    "        trade_type = mt5.ORDER_TYPE_BUY\n",
    "        price = mt5.symbol_info_tick(symbol).ask\n",
    "    elif action =='sell':\n",
    "        trade_type = mt5.ORDER_TYPE_SELL\n",
    "        price = mt5.symbol_info_tick(symbol).bid\n",
    "    position_id=result.order\n",
    "    lot = buy_request['volume']\n",
    "\n",
    "    close_request={\n",
    "        \"action\": mt5.TRADE_ACTION_DEAL,\n",
    "        \"symbol\": symbol,\n",
    "        \"volume\": lot,\n",
    "        \"type\": mt5.ORDER_TYPE_SELL,\n",
    "        \"position\": position_id,\n",
    "        \"price\": price,\n",
    "        \"deviation\": deviation,\n",
    "        \"magic\": ea_magic_number,\n",
    "        \"comment\": \"python script close\",\n",
    "        \"type_time\": mt5.ORDER_TIME_GTC, # good till cancelled\n",
    "        \"type_filling\": mt5.ORDER_FILLING_RETURN,\n",
    "    }\n",
    "    # send a close request\n",
    "    result=mt5.order_send(close_request)\n"
   ]
  },
  {
   "cell_type": "code",
   "execution_count": null,
   "metadata": {},
   "outputs": [],
   "source": []
  }
 ]
}